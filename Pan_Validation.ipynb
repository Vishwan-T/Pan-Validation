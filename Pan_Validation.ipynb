{
 "cells": [
  {
   "cell_type": "code",
   "execution_count": 23,
   "id": "6b0b7c58-9191-4b39-86ea-8c3c75cc8ee3",
   "metadata": {},
   "outputs": [],
   "source": [
    "import pandas as pd \n",
    "from tabulate import tabulate\n",
    "import re\n",
    "import os"
   ]
  },
  {
   "cell_type": "code",
   "execution_count": 2,
   "id": "e6dc297f-c766-44dd-a98f-4e887fc697f6",
   "metadata": {},
   "outputs": [],
   "source": [
    "df = pd.read_excel('/home/vishwan/Projects/PAN Card Validation in PYTHON - Scripts/PAN Number Validation Dataset.xlsx')"
   ]
  },
  {
   "cell_type": "code",
   "execution_count": 3,
   "id": "6d856161-0ca4-45fd-a9f3-fb5f2d12163b",
   "metadata": {},
   "outputs": [
    {
     "name": "stdout",
     "output_type": "stream",
     "text": [
      "    Pan_Numbers\n",
      "0    VGLOD3180G\n",
      "1    PHOXD7232L\n",
      "2    MGEPH6532A\n",
      "3    JJCHK4574O\n",
      "4    XTQIJ2330L\n",
      "5    HTJYM3835H\n",
      "6    YQTAP6661X\n",
      "7    hvofe5635y\n",
      "8  hyuij7902r  \n",
      "9    idsmt3429e\n"
     ]
    }
   ],
   "source": [
    "print(df.head(10))"
   ]
  },
  {
   "cell_type": "code",
   "execution_count": 4,
   "id": "2da1e82c-1e52-4811-a7b7-96ed1e282e51",
   "metadata": {},
   "outputs": [
    {
     "name": "stdout",
     "output_type": "stream",
     "text": [
      "Total records =  10000\n"
     ]
    }
   ],
   "source": [
    "print('Total records = ',len(df))\n",
    "total_records = len(df)"
   ]
  },
  {
   "cell_type": "markdown",
   "id": "909b1fad-6021-4818-939e-2848b2dc4d98",
   "metadata": {},
   "source": [
    "# Data Cleaning"
   ]
  },
  {
   "cell_type": "code",
   "execution_count": 5,
   "id": "6194bbb4-a315-49bb-9a2d-c11f5ee6010d",
   "metadata": {},
   "outputs": [
    {
     "name": "stdout",
     "output_type": "stream",
     "text": [
      "  Pan_Numbers\n",
      "0  VGLOD3180G\n",
      "1  PHOXD7232L\n",
      "2  MGEPH6532A\n",
      "3  JJCHK4574O\n",
      "4  XTQIJ2330L\n",
      "5  HTJYM3835H\n",
      "6  YQTAP6661X\n",
      "7  HVOFE5635Y\n",
      "8  HYUIJ7902R\n",
      "9  IDSMT3429E\n"
     ]
    }
   ],
   "source": [
    "df[\"Pan_Numbers\"] = df['Pan_Numbers'].astype('string').str.strip().str.upper()\n",
    "print(df.head(10))"
   ]
  },
  {
   "cell_type": "code",
   "execution_count": 6,
   "id": "9b59b9f6-3434-4a47-bdf7-a586612ba2b1",
   "metadata": {},
   "outputs": [
    {
     "name": "stdout",
     "output_type": "stream",
     "text": [
      "     Pan_Numbers\n",
      "5019            \n",
      "5020            \n"
     ]
    }
   ],
   "source": [
    "print(df[df['Pan_Numbers']==''])"
   ]
  },
  {
   "cell_type": "code",
   "execution_count": 7,
   "id": "fbb7add6-0df9-4c78-b603-96bec804afb0",
   "metadata": {},
   "outputs": [
    {
     "name": "stdout",
     "output_type": "stream",
     "text": [
      "     Pan_Numbers\n",
      "5022        <NA>\n",
      "5027        <NA>\n",
      "5033        <NA>\n",
      "5043        <NA>\n",
      "5057        <NA>\n",
      "...          ...\n",
      "9961        <NA>\n",
      "9972        <NA>\n",
      "9986        <NA>\n",
      "9987        <NA>\n",
      "9997        <NA>\n",
      "\n",
      "[965 rows x 1 columns]\n"
     ]
    }
   ],
   "source": [
    "# Displaying Null Values\n",
    "print(df[df['Pan_Numbers'].isna()])"
   ]
  },
  {
   "cell_type": "code",
   "execution_count": 8,
   "id": "a411df85-9bbb-45b0-a5e5-683dc2711f45",
   "metadata": {},
   "outputs": [],
   "source": [
    "# Removing Missing and NA records\n",
    "df = df.replace({\"Pan_Numbers\":''}, pd.NA).dropna(subset=\"Pan_Numbers\")"
   ]
  },
  {
   "cell_type": "code",
   "execution_count": 9,
   "id": "06152aed-d32f-407f-88d2-ec69d6537916",
   "metadata": {},
   "outputs": [
    {
     "name": "stdout",
     "output_type": "stream",
     "text": [
      "  Pan_Numbers\n",
      "0  VGLOD3180G\n",
      "1  PHOXD7232L\n",
      "2  MGEPH6532A\n",
      "3  JJCHK4574O\n",
      "4  XTQIJ2330L\n",
      "5  HTJYM3835H\n",
      "6  YQTAP6661X\n",
      "7  HVOFE5635Y\n",
      "8  HYUIJ7902R\n",
      "9  IDSMT3429E\n"
     ]
    }
   ],
   "source": [
    "print(df.head(10))"
   ]
  },
  {
   "cell_type": "code",
   "execution_count": 10,
   "id": "43f24e5e-acc5-4bed-bfa9-a8c203af730b",
   "metadata": {},
   "outputs": [
    {
     "name": "stdout",
     "output_type": "stream",
     "text": [
      "Total records =  9033\n"
     ]
    }
   ],
   "source": [
    "print('Total records = ',len(df))"
   ]
  },
  {
   "cell_type": "code",
   "execution_count": 11,
   "id": "e8ada902-7c50-4b12-a9c5-56a394ee6913",
   "metadata": {},
   "outputs": [
    {
     "name": "stdout",
     "output_type": "stream",
     "text": [
      "Unique values =  9025\n"
     ]
    }
   ],
   "source": [
    "print('Unique values = ', df[\"Pan_Numbers\"].nunique())"
   ]
  },
  {
   "cell_type": "code",
   "execution_count": 12,
   "id": "22467af7-3650-4a34-b80b-d158d537706a",
   "metadata": {},
   "outputs": [
    {
     "name": "stdout",
     "output_type": "stream",
     "text": [
      "Total records =  9025\n"
     ]
    }
   ],
   "source": [
    "# Removing Duplicates\n",
    "df = df.drop_duplicates(subset=\"Pan_Numbers\", keep='first')\n",
    "print('Total records = ',len(df))"
   ]
  },
  {
   "cell_type": "markdown",
   "id": "9b56e94c-a1c7-4a88-b39f-85889bedc884",
   "metadata": {},
   "source": [
    "# Validation"
   ]
  },
  {
   "cell_type": "code",
   "execution_count": 13,
   "id": "49fce017-7043-4f56-9136-9e6a4a076e24",
   "metadata": {},
   "outputs": [],
   "source": [
    "def has_adjacent_repitition(pan):\n",
    "    return any(pan[i] == pan[i+1] for i in range(len(pan)-1))"
   ]
  },
  {
   "cell_type": "code",
   "execution_count": 14,
   "id": "10fdac8f-5867-4a80-a836-2274a1b58c6a",
   "metadata": {},
   "outputs": [],
   "source": [
    "def is_sequencial(pan): #ABCDE , ACFGT\n",
    "    return all(ord(pan[i+1]) - ord(pan[i]) == 1 for i in range(len(pan)-1))"
   ]
  },
  {
   "cell_type": "code",
   "execution_count": 15,
   "id": "e6ac7dba-e498-4cb9-beb3-ba6a5d9ab662",
   "metadata": {},
   "outputs": [],
   "source": [
    "def is_valid_pan(pan):\n",
    "    if len(pan) != 10:\n",
    "        return False \n",
    "    \n",
    "    if not re.match(r'^[A-Z]{5}[0-9]{4}[A-Z]$', pan):\n",
    "        return False \n",
    "    \n",
    "    if has_adjacent_repitition(pan):\n",
    "        return False \n",
    "    \n",
    "    if is_sequencial(pan):\n",
    "        return False\n",
    "    \n",
    "    return True"
   ]
  },
  {
   "cell_type": "code",
   "execution_count": 16,
   "id": "5a9fab19-a908-4e9a-8445-f0efd55b4c4a",
   "metadata": {},
   "outputs": [
    {
     "name": "stdout",
     "output_type": "stream",
     "text": [
      "  Pan_Numbers   Status\n",
      "0  VGLOD3180G    Valid\n",
      "1  PHOXD7232L    Valid\n",
      "2  MGEPH6532A    Valid\n",
      "3  JJCHK4574O  Invalid\n",
      "4  XTQIJ2330L  Invalid\n",
      "5  HTJYM3835H    Valid\n",
      "6  YQTAP6661X  Invalid\n",
      "7  HVOFE5635Y    Valid\n",
      "8  HYUIJ7902R    Valid\n",
      "9  IDSMT3429E    Valid\n"
     ]
    }
   ],
   "source": [
    "df[\"Status\"] = df[\"Pan_Numbers\"].apply(lambda x: \"Valid\" if is_valid_pan(x) else \"Invalid\")\n",
    "print(df.head(10))"
   ]
  },
  {
   "cell_type": "code",
   "execution_count": 17,
   "id": "e14e4d4e-819e-40e4-9ff2-5c770d09eee7",
   "metadata": {},
   "outputs": [
    {
     "name": "stdout",
     "output_type": "stream",
     "text": [
      "Total records =  10000\n",
      "Valid =  3193\n",
      "Invalid =  5832\n",
      "Missing =  975\n"
     ]
    }
   ],
   "source": [
    "valid_cnt = (df[\"Status\"]=='Valid').sum()\n",
    "invalid_cnt = (df[\"Status\"]=='Invalid').sum()\n",
    "missing_cnt = total_records - (valid_cnt+invalid_cnt)\n",
    "\n",
    "print('Total records = ', total_records)\n",
    "print('Valid = ', valid_cnt)\n",
    "print('Invalid = ', invalid_cnt)\n",
    "print('Missing = ', missing_cnt)"
   ]
  },
  {
   "cell_type": "code",
   "execution_count": 22,
   "id": "12c27068-0000-4bef-81db-b754f08e9468",
   "metadata": {},
   "outputs": [
    {
     "name": "stdout",
     "output_type": "stream",
     "text": [
      "+---------------------------+---------------------+-----------------------+----------------------+\n",
      "|   TOTAL PROCESSED RECORDS |   TOTAL VALID COUNT |   TOTAL INVALID COUNT |   TOTAL MISSING PANS |\n",
      "|---------------------------+---------------------+-----------------------+----------------------|\n",
      "|                     10000 |                3193 |                  5832 |                  975 |\n",
      "+---------------------------+---------------------+-----------------------+----------------------+\n"
     ]
    }
   ],
   "source": [
    "df_summary = pd.DataFrame({ \"TOTAL PROCESSED RECORDS\":[total_records]\n",
    "                           ,\"TOTAL VALID COUNT\": [valid_cnt]\n",
    "                           ,\"TOTAL INVALID COUNT\": [invalid_cnt]\n",
    "                           ,\"TOTAL MISSING PANS\": [missing_cnt]})\n",
    "print(tabulate(df_summary, headers=\"keys\", tablefmt=\"psql\", showindex=False))"
   ]
  },
  {
   "cell_type": "code",
   "execution_count": 24,
   "id": "7a5e640d-90cc-4296-a383-8c52d979373f",
   "metadata": {},
   "outputs": [
    {
     "name": "stdout",
     "output_type": "stream",
     "text": [
      "File created successfully!\n"
     ]
    }
   ],
   "source": [
    "# Writing Data in Excel\n",
    "excel_file = \"PAN_VALIDATION_RESULT.xlsx\"\n",
    "with pd.ExcelWriter(excel_file) as writer:\n",
    "    df.to_excel(writer, sheet_name=\"PAN Validations\", index=False)\n",
    "    df_summary.to_excel(writer, sheet_name=\"SUMMARY\", index=False)\n",
    "\n",
    "if os.path.exists(excel_file):\n",
    "    print(\"File created successfully!\")\n",
    "else:\n",
    "    print(\"File creation failed.\")"
   ]
  }
 ],
 "metadata": {
  "kernelspec": {
   "display_name": "Python [conda env:base] *",
   "language": "python",
   "name": "conda-base-py"
  },
  "language_info": {
   "codemirror_mode": {
    "name": "ipython",
    "version": 3
   },
   "file_extension": ".py",
   "mimetype": "text/x-python",
   "name": "python",
   "nbconvert_exporter": "python",
   "pygments_lexer": "ipython3",
   "version": "3.13.5"
  }
 },
 "nbformat": 4,
 "nbformat_minor": 5
}
